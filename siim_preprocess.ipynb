{
 "cells": [
  {
   "cell_type": "code",
   "execution_count": null,
   "metadata": {},
   "outputs": [],
   "source": [
    "import os\n",
    "from PIL import Image\n",
    "from ast import literal_eval\n",
    "import pandas as pd\n",
    "from tqdm.auto import tqdm\n",
    "import numpy as np\n",
    "import pydicom\n",
    "import glob\n",
    "import cv2\n",
    "from pydicom.pixel_data_handlers.util import apply_voi_lut"
   ]
  },
  {
   "cell_type": "code",
   "execution_count": null,
   "metadata": {},
   "outputs": [],
   "source": [
    "SIZE = 512\n",
    "DATA_PATH = './data'"
   ]
  },
  {
   "cell_type": "code",
   "execution_count": null,
   "metadata": {},
   "outputs": [],
   "source": [
    "def read_xray(path, voi_lut=True, fix_monochrome=True):\n",
    "    dicom = pydicom.read_file(path)\n",
    "    # VOI LUT (if available by DICOM device) is used to transform raw DICOM data to \n",
    "    # \"human-friendly\" view\n",
    "    if voi_lut:\n",
    "        data = apply_voi_lut(dicom.pixel_array, dicom)\n",
    "    else:\n",
    "        data = dicom.pixel_array        \n",
    "    # depending on this value, X-ray may look inverted - fix that:\n",
    "    if fix_monochrome and dicom.PhotometricInterpretation == \"MONOCHROME1\":\n",
    "        data = np.amax(data) - data\n",
    "    data = data - np.min(data)\n",
    "    data = data / np.max(data)\n",
    "    data = (data * 255).astype(np.uint8) \n",
    "    return data\n",
    "\n",
    "def resize(array, size, keep_ratio=False, resample=Image.LANCZOS):\n",
    "    img = Image.fromarray(array)\n",
    "    if keep_ratio:\n",
    "        img.thumbnail((size, size), resample)\n",
    "    else:\n",
    "        img = img.resize((size, size), resample)\n",
    "    return img\n",
    "\n",
    "def img_mask(row, dim_x, dim_y, size):\n",
    "    img = np.zeros((size, size), dtype=np.uint8)\n",
    "    wratio = size / dim_x\n",
    "    hratio = size / dim_y\n",
    "    if row.hasnans:\n",
    "        bbox = []\n",
    "    else:\n",
    "        bbox = literal_eval(row['boxes'])\n",
    "    if len(bbox) > 0:\n",
    "        for i in range(len(bbox)):\n",
    "            x = bbox[i]['x'] * wratio \n",
    "            y = bbox[i]['y'] * hratio \n",
    "            xmax = bbox[i]['width'] * wratio  \n",
    "            ymax = bbox[i]['height'] * hratio \n",
    "            img = cv2.rectangle(\n",
    "                img, \n",
    "                (int(x), int(y)),\n",
    "                (int(xmax) + int(x), int(ymax) + int(y)),\n",
    "                (255),\n",
    "                thickness=-1\n",
    "            )\n",
    "    return img "
   ]
  },
  {
   "cell_type": "code",
   "execution_count": null,
   "metadata": {},
   "outputs": [],
   "source": [
    "df_train_img = pd.read_csv(f'{DATA_PATH}/train_image_level.csv')\n",
    "df_train_sty = pd.read_csv(f'{DATA_PATH}/train_study_level.csv')"
   ]
  },
  {
   "cell_type": "code",
   "execution_count": null,
   "metadata": {},
   "outputs": [],
   "source": [
    "df_train_sty['StudyInstanceUID'] = df_train_sty['id'].apply(lambda x: x.replace('_study', ''))\n",
    "del df_train_sty['id']\n",
    "df_train_img = df_train_img.merge(df_train_sty, on='StudyInstanceUID')"
   ]
  },
  {
   "cell_type": "code",
   "execution_count": null,
   "metadata": {},
   "outputs": [],
   "source": [
    "paths = []\n",
    "counter = 0\n",
    "for sid in tqdm(df_train_img['StudyInstanceUID']):\n",
    "    try:\n",
    "        paths.append(glob.glob(f'{DATA_PATH}/train/{sid}/*/*')[0])\n",
    "    except:\n",
    "        paths.append('')\n",
    "        counter += 1\n",
    "print('no dicom images:', counter)\n",
    "df_train_img['path'] = paths"
   ]
  },
  {
   "cell_type": "code",
   "execution_count": null,
   "metadata": {
    "scrolled": true
   },
   "outputs": [],
   "source": [
    "counter = 0\n",
    "images_paths = []\n",
    "dim_x = []\n",
    "dim_y = []\n",
    "load_path = f'{DATA_PATH}/train/'\n",
    "save_path = f'{DATA_PATH}/train_{SIZE}/'\n",
    "save_path_masks = f'{DATA_PATH}/train_{SIZE}_masks/'\n",
    "os.makedirs(save_path, exist_ok=True)\n",
    "os.makedirs(save_path_masks, exist_ok=True)\n",
    "for idx, row in tqdm(df_train_img.iterrows(), desc='train', total=len(df_train_img)):\n",
    "    file = row['path']\n",
    "    if file == '':\n",
    "        counter += 1\n",
    "    else:\n",
    "        xray = read_xray(file)\n",
    "        img = resize(xray, size=SIZE) # keep_ratio=True to have original aspect ratio\n",
    "        img.save(save_path + file.split('/')[-1].replace('dcm', 'png'))\n",
    "        images_paths.append(file.split('/')[-1].replace('dcm', 'png'))\n",
    "        dim_x.append(xray.shape[1])\n",
    "        dim_y.append(xray.shape[0])\n",
    "        mask = img_mask(row, xray.shape[1], xray.shape[0], size=SIZE)\n",
    "        mask = Image.fromarray(mask)\n",
    "        mask.save(save_path_masks + file.split('/')[-1].replace('dcm', 'png'))\n",
    "print('files omitted:', counter)"
   ]
  },
  {
   "cell_type": "code",
   "execution_count": null,
   "metadata": {},
   "outputs": [],
   "source": [
    "df = pd.DataFrame.from_dict({'img': images_paths, 'dim_x': dim_x, 'dim_y': dim_y})\n",
    "df.to_csv(f'{DATA_PATH}/train_meta_{SIZE}.csv', index=False)"
   ]
  },
  {
   "cell_type": "code",
   "execution_count": null,
   "metadata": {},
   "outputs": [],
   "source": []
  }
 ],
 "metadata": {
  "kernelspec": {
   "display_name": "Orange Python 3",
   "language": "python",
   "name": "orange"
  },
  "language_info": {
   "codemirror_mode": {
    "name": "ipython",
    "version": 3
   },
   "file_extension": ".py",
   "mimetype": "text/x-python",
   "name": "python",
   "nbconvert_exporter": "python",
   "pygments_lexer": "ipython3",
   "version": "3.8.3"
  }
 },
 "nbformat": 4,
 "nbformat_minor": 4
}
